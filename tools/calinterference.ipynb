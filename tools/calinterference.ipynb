{
 "cells": [
  {
   "cell_type": "code",
   "execution_count": null,
   "metadata": {},
   "outputs": [],
   "source": [
    "import numpy as np \n",
    "from matplotlib import pyplot as plt "
   ]
  },
  {
   "cell_type": "code",
   "execution_count": null,
   "metadata": {},
   "outputs": [],
   "source": [
    "file = \"all_grads_cc12m.npz\"\n",
    "with open(file,'rb') as f:\n",
    "    all_g = dict(np.load(f, allow_pickle=True))\n",
    "    in_g = all_g['imagenet'].item()\n",
    "    bw_g = all_g['bookswiki_pretrain'].item()\n",
    "    cc_g = all_g['cc12m_caption'].item()"
   ]
  },
  {
   "cell_type": "code",
   "execution_count": null,
   "metadata": {},
   "outputs": [],
   "source": [
    "keys = ['encoder.layers.3.ffn.dense2.weight', 'encoder.layers.7.ffn.dense2.weight', 'encoder.layers.11.ffn.dense2.weight']\n"
   ]
  },
  {
   "cell_type": "code",
   "execution_count": null,
   "metadata": {},
   "outputs": [],
   "source": [
    "index = 2\n",
    "feat_shape = in_g[keys[index]][0].shape\n",
    "in_g1 = np.array(in_g[keys[index]]).astype(np.float32).reshape(100, -1)\n",
    "bw_g1 = np.array(bw_g[keys[index]]).astype(np.float32).reshape(100, -1)\n",
    "cc_g1 = np.array(cc_g[keys[index]]).astype(np.float32).reshape(100, -1)"
   ]
  },
  {
   "cell_type": "code",
   "execution_count": null,
   "metadata": {},
   "outputs": [],
   "source": [
    "in_g1.shape "
   ]
  },
  {
   "cell_type": "code",
   "execution_count": null,
   "metadata": {},
   "outputs": [],
   "source": [
    "threshold = 0.0\n",
    "in_g1_t = in_g1 * (np.abs(in_g1) > threshold * in_g1.std(-1, keepdims=True))\n",
    "bw_g1_t = bw_g1 * (np.abs(bw_g1) > threshold * bw_g1.std(-1, keepdims=True))\n",
    "cc_g1_t = cc_g1 * (np.abs(cc_g1) > threshold * cc_g1.std(-1, keepdims=True))"
   ]
  },
  {
   "cell_type": "code",
   "execution_count": null,
   "metadata": {},
   "outputs": [],
   "source": [
    "cc_g1_t.shape \n"
   ]
  },
  {
   "cell_type": "code",
   "execution_count": null,
   "metadata": {},
   "outputs": [],
   "source": [
    "in_g1_t_norm = np.sqrt(np.sum(in_g1_t**2, -1, keepdims=True))\n",
    "bw_g1_t_norm = np.sqrt(np.sum(bw_g1_t**2, -1, keepdims=True))\n",
    "cc_g1_t_norm = np.sqrt(np.sum(cc_g1_t**2, -1, keepdims=True))"
   ]
  },
  {
   "cell_type": "code",
   "execution_count": null,
   "metadata": {},
   "outputs": [],
   "source": [
    "deltaii = in_g1_t @ in_g1_t.T / in_g1_t_norm\n",
    "deltabi = bw_g1_t @ in_g1_t.T / bw_g1_t_norm\n",
    "deltaci = cc_g1_t @ in_g1_t.T / cc_g1_t_norm\n",
    "deltaib = in_g1_t @ bw_g1_t.T / in_g1_t_norm\n",
    "deltabb = bw_g1_t @ bw_g1_t.T / bw_g1_t_norm\n",
    "deltacb = cc_g1_t @ bw_g1_t.T / cc_g1_t_norm\n",
    "deltaic = in_g1_t @ cc_g1_t.T / in_g1_t_norm\n",
    "deltabc = bw_g1_t @ cc_g1_t.T / bw_g1_t_norm\n",
    "deltacc = cc_g1_t @ cc_g1_t.T / cc_g1_t_norm"
   ]
  },
  {
   "cell_type": "code",
   "execution_count": null,
   "metadata": {},
   "outputs": [],
   "source": [
    "deltabi.shape  # J, I\n"
   ]
  },
  {
   "cell_type": "code",
   "execution_count": null,
   "metadata": {},
   "outputs": [],
   "source": [
    "# j != i\n",
    "ind = 0 # sum along the j-axis\n",
    "deltaii_sum = (deltaii.sum(ind)-np.diag(deltaii))/(deltaii.shape[1]-1)\n",
    "deltabi_sum = (deltabi.sum(ind)-np.diag(deltabi))/(deltabi.shape[1]-1)\n",
    "deltaci_sum = (deltaci.sum(ind)-np.diag(deltaci))/(deltaci.shape[1]-1)\n",
    "deltaib_sum = (deltaib.sum(ind)-np.diag(deltaib))/(deltaib.shape[1]-1)\n",
    "deltabb_sum = (deltabb.sum(ind)-np.diag(deltabb))/(deltabb.shape[1]-1)\n",
    "deltacb_sum = (deltacb.sum(ind)-np.diag(deltacb))/(deltacb.shape[1]-1)\n",
    "deltaic_sum = (deltaic.sum(ind)-np.diag(deltaic))/(deltaic.shape[1]-1)\n",
    "deltabc_sum = (deltabc.sum(ind)-np.diag(deltabc))/(deltabc.shape[1]-1)\n",
    "deltacc_sum = (deltacc.sum(ind)-np.diag(deltacc))/(deltacc.shape[1]-1)"
   ]
  },
  {
   "cell_type": "code",
   "execution_count": null,
   "metadata": {},
   "outputs": [],
   "source": [
    "deltaii_sum.shape # I"
   ]
  },
  {
   "cell_type": "code",
   "execution_count": null,
   "metadata": {},
   "outputs": [],
   "source": [
    "interference = np.array([[np.mean(deltaii_sum / deltaii_sum), np.mean(deltabi_sum / deltaii_sum), np.mean(deltaci_sum / deltaii_sum)],\n",
    "                         [np.mean(deltaib_sum / deltabb_sum), np.mean(deltabb_sum / deltabb_sum), np.mean(deltacb_sum / deltabb_sum)],\n",
    "                         [np.mean(deltaic_sum / deltacc_sum), np.mean(deltabc_sum / deltacc_sum), np.mean(deltacc_sum / deltacc_sum)]])\n",
    "interference"
   ]
  }
 ],
 "metadata": {
  "kernelspec": {
   "display_name": "Python 3",
   "language": "python",
   "name": "python3"
  },
  "language_info": {
   "codemirror_mode": {
    "name": "ipython",
    "version": 3
   },
   "file_extension": ".py",
   "mimetype": "text/x-python",
   "name": "python",
   "nbconvert_exporter": "python",
   "pygments_lexer": "ipython3",
   "version": "3.7.3"
  }
 },
 "nbformat": 4,
 "nbformat_minor": 4
}
